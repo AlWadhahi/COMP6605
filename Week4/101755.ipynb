{
 "cells": [
  {
   "cell_type": "code",
   "execution_count": 2,
   "metadata": {},
   "outputs": [],
   "source": [
    "import numpy as np\n",
    "import pandas as pd\n",
    "import matplotlib.pyplot as plt\n",
    "import seaborn as sns"
   ]
  },
  {
   "cell_type": "code",
   "execution_count": 3,
   "metadata": {},
   "outputs": [],
   "source": [
    "chunksize = 10**5\n",
    "\n",
    "with pd.read_csv(\"./dataset/rba-dataset.csv\", chunksize=chunksize) as reader:\n",
    "    for chunk in reader:\n",
    "        df = chunk\n",
    "        break\n"
   ]
  },
  {
   "cell_type": "code",
   "execution_count": 5,
   "metadata": {},
   "outputs": [
    {
     "data": {
      "text/plain": [
       "Index(['index', 'Login Timestamp', 'User ID', 'Round-Trip Time [ms]',\n",
       "       'IP Address', 'Country', 'Region', 'City', 'ASN', 'User Agent String',\n",
       "       'Browser Name and Version', 'OS Name and Version', 'Device Type',\n",
       "       'Login Successful', 'Is Attack IP', 'Is Account Takeover'],\n",
       "      dtype='object')"
      ]
     },
     "execution_count": 5,
     "metadata": {},
     "output_type": "execute_result"
    }
   ],
   "source": [
    "df.columns"
   ]
  }
 ],
 "metadata": {
  "kernelspec": {
   "display_name": "Python 3",
   "language": "python",
   "name": "python3"
  },
  "language_info": {
   "codemirror_mode": {
    "name": "ipython",
    "version": 3
   },
   "file_extension": ".py",
   "mimetype": "text/x-python",
   "name": "python",
   "nbconvert_exporter": "python",
   "pygments_lexer": "ipython3",
   "version": "3.9.13"
  },
  "orig_nbformat": 4,
  "vscode": {
   "interpreter": {
    "hash": "3a9ec033fbaa8bc46850fd811ec5fa44cee99a2d15b4062bed6f4cf41c0d5b77"
   }
  }
 },
 "nbformat": 4,
 "nbformat_minor": 2
}
